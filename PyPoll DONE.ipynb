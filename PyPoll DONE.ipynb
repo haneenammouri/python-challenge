{
 "cells": [
  {
   "cell_type": "code",
   "execution_count": 1,
   "metadata": {},
   "outputs": [],
   "source": [
    "import os\n",
    "import csv"
   ]
  },
  {
   "cell_type": "code",
   "execution_count": 7,
   "metadata": {},
   "outputs": [
    {
     "data": {
      "text/plain": [
       "'Resources\\\\election_data.csv'"
      ]
     },
     "execution_count": 7,
     "metadata": {},
     "output_type": "execute_result"
    }
   ],
   "source": [
    "file_csv = os.path.join(\"Resources\", \"election_data.csv\")\n",
    "file_csv\n"
   ]
  },
  {
   "cell_type": "code",
   "execution_count": 8,
   "metadata": {},
   "outputs": [],
   "source": [
    "poll = {}\n",
    "\n",
    "total_votes = 0"
   ]
  },
  {
   "cell_type": "code",
   "execution_count": 9,
   "metadata": {},
   "outputs": [
    {
     "data": {
      "text/plain": [
       "{'Khan': 2218231, 'Correy': 704200, 'Li': 492940, \"O'Tooley\": 105630}"
      ]
     },
     "execution_count": 9,
     "metadata": {},
     "output_type": "execute_result"
    }
   ],
   "source": [
    "with open(file_csv, 'r') as csvfile:\n",
    "    csvread = csv.reader(csvfile)\n",
    "\n",
    "    #skips header line\n",
    "    next(csvread, None)\n",
    "\n",
    "    #creates dictionary from file using column 3 as keys, using each name only once.\n",
    "    #counts votes for each candidate as entries\n",
    "    #keeps a total vote count by counting up 1 for each loop (# of rows w/o header)\n",
    "    for row in csvread:\n",
    "        total_votes += 1\n",
    "        if row[2] in poll.keys():\n",
    "            poll[row[2]] = poll[row[2]] + 1\n",
    "        else:\n",
    "            poll[row[2]] = 1\n",
    "total_votes\n",
    "poll"
   ]
  },
  {
   "cell_type": "code",
   "execution_count": 10,
   "metadata": {},
   "outputs": [],
   "source": [
    "candidates = []\n",
    "num_votes = []"
   ]
  },
  {
   "cell_type": "code",
   "execution_count": 11,
   "metadata": {},
   "outputs": [],
   "source": [
    "for key, value in poll.items():\n",
    "    candidates.append(key)\n",
    "    num_votes.append(value)"
   ]
  },
  {
   "cell_type": "code",
   "execution_count": 12,
   "metadata": {},
   "outputs": [],
   "source": [
    "vote_percent = []\n",
    "for n in num_votes:\n",
    "    vote_percent.append(round(n/total_votes*100, 1))\n",
    "\n",
    "# zips candidates, num_votes, vote_percent into tuples\n",
    "clean_data = list(zip(candidates, num_votes, vote_percent))\n"
   ]
  },
  {
   "cell_type": "code",
   "execution_count": 13,
   "metadata": {},
   "outputs": [],
   "source": [
    "winner_list = []\n",
    "\n",
    "for name in clean_data:\n",
    "    if max(num_votes) == name[1]:\n",
    "        winner_list.append(name[0])"
   ]
  },
  {
   "cell_type": "code",
   "execution_count": 14,
   "metadata": {},
   "outputs": [],
   "source": [
    "winner = winner_list[0]\n",
    "\n",
    "#only runs if there is a tie and puts additional winners into a string separated by commas\n",
    "if len(winner_list) > 1:\n",
    "    for w in range(1, len(winner_list)):\n",
    "        winner = winner + \", \" + winner_list[w]"
   ]
  },
  {
   "cell_type": "code",
   "execution_count": 17,
   "metadata": {},
   "outputs": [],
   "source": [
    "output_file = os.path.join('election_results.txt')\n"
   ]
  },
  {
   "cell_type": "code",
   "execution_count": 18,
   "metadata": {},
   "outputs": [
    {
     "name": "stdout",
     "output_type": "stream",
     "text": [
      "Election Results \n",
      "------------------------- \n",
      "Total Votes: 3521001\n",
      "-------------------------\n",
      "Khan: 63.0%  (2218231)\n",
      "Correy: 20.0%  (704200)\n",
      "Li: 14.0%  (492940)\n",
      "O'Tooley: 3.0%  (105630)\n",
      "------------------------- \n",
      "Winner: Khan\n",
      "-------------------------\n"
     ]
    }
   ],
   "source": [
    "with open(output_file, 'w') as txtfile:\n",
    "    txtfile.writelines('Election Results \\n------------------------- \\nTotal Votes: ' + str(total_votes) + \n",
    "      '\\n-------------------------\\n')\n",
    "    for entry in clean_data:\n",
    "        txtfile.writelines(entry[0] + \": \" + str(entry[2]) +'%  (' + str(entry[1]) + ')\\n')\n",
    "    txtfile.writelines('------------------------- \\nWinner: ' + winner + '\\n-------------------------')\n",
    "\n",
    "#prints file to terminal\n",
    "with open(output_file, 'r') as readfile:\n",
    "    print(readfile.read())"
   ]
  },
  {
   "cell_type": "code",
   "execution_count": null,
   "metadata": {},
   "outputs": [],
   "source": []
  }
 ],
 "metadata": {
  "kernelspec": {
   "display_name": "Python 3",
   "language": "python",
   "name": "python3"
  },
  "language_info": {
   "codemirror_mode": {
    "name": "ipython",
    "version": 3
   },
   "file_extension": ".py",
   "mimetype": "text/x-python",
   "name": "python",
   "nbconvert_exporter": "python",
   "pygments_lexer": "ipython3",
   "version": "3.7.0"
  }
 },
 "nbformat": 4,
 "nbformat_minor": 2
}
