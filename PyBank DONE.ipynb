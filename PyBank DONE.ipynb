{
 "cells": [
  {
   "cell_type": "code",
   "execution_count": 1,
   "metadata": {},
   "outputs": [],
   "source": [
    "import os \n",
    "import csv"
   ]
  },
  {
   "cell_type": "code",
   "execution_count": 2,
   "metadata": {},
   "outputs": [
    {
     "name": "stdout",
     "output_type": "stream",
     "text": [
      "Resources\\budget_data.csv\n"
     ]
    }
   ],
   "source": [
    "file_csv = os.path.join(\"Resources\",\"budget_data.csv\")\n",
    "print(file_csv)"
   ]
  },
  {
   "cell_type": "code",
   "execution_count": 3,
   "metadata": {},
   "outputs": [],
   "source": [
    "months=[]\n",
    "revenue =[]"
   ]
  },
  {
   "cell_type": "code",
   "execution_count": 4,
   "metadata": {},
   "outputs": [],
   "source": [
    "with open(file_csv, \"r\") as csvfile:\n",
    "    csv_reader= csv.reader(csvfile, delimiter=\",\")\n",
    "    next (csv_reader, None)\n",
    "    for row in csv_reader:\n",
    "        months.append(row[0])\n",
    "        revenue.append(int(row[1]))"
   ]
  },
  {
   "cell_type": "code",
   "execution_count": 5,
   "metadata": {},
   "outputs": [
    {
     "data": {
      "text/plain": [
       "86"
      ]
     },
     "execution_count": 5,
     "metadata": {},
     "output_type": "execute_result"
    }
   ],
   "source": [
    "total_months = len(months)\n",
    "total_months"
   ]
  },
  {
   "cell_type": "code",
   "execution_count": 6,
   "metadata": {},
   "outputs": [],
   "source": [
    "greatest_inc = revenue[0]\n",
    "greatest_dec = revenue[0]\n",
    "total_revenue = 0"
   ]
  },
  {
   "cell_type": "code",
   "execution_count": 7,
   "metadata": {},
   "outputs": [
    {
     "data": {
      "text/plain": [
       "38382578"
      ]
     },
     "execution_count": 7,
     "metadata": {},
     "output_type": "execute_result"
    }
   ],
   "source": [
    "for r in range(len(revenue)):\n",
    "    if revenue[r] >= greatest_inc:\n",
    "        greatest_inc = revenue[r]\n",
    "        great_inc_month = months[r]\n",
    "    elif revenue[r] <= greatest_dec:\n",
    "        greatest_dec = revenue[r]\n",
    "        great_dec_month = months[r]\n",
    "    total_revenue += revenue[r]\n",
    "total_revenue"
   ]
  },
  {
   "cell_type": "code",
   "execution_count": 11,
   "metadata": {},
   "outputs": [
    {
     "data": {
      "text/plain": [
       "(446309.0465116279, 2)"
      ]
     },
     "execution_count": 11,
     "metadata": {},
     "output_type": "execute_result"
    }
   ],
   "source": [
    "average_change = (total_revenue/total_months, 2)\n",
    "average_change"
   ]
  },
  {
   "cell_type": "code",
   "execution_count": 9,
   "metadata": {},
   "outputs": [],
   "source": [
    "Output = os.path.join(\"Output.txt\")\n"
   ]
  },
  {
   "cell_type": "code",
   "execution_count": 10,
   "metadata": {},
   "outputs": [],
   "source": [
    "with open(Output, 'w') as writefile:\n",
    "    writefile.writelines('Financial Analysis\\n')\n",
    "    writefile.writelines('----------------------------' + '\\n')\n",
    "    writefile.writelines('Total Months: ' + str(total_months) + '\\n')\n",
    "    writefile.writelines('Total Revenue: $' + str(total_revenue) + '\\n')\n",
    "    writefile.writelines('Average Revenue Change: $' + str(average_change) + '\\n')\n",
    "    writefile.writelines('Greatest Increase in Revenue: ' + great_inc_month + ' ($' + str(greatest_inc) + ')'+ '\\n')\n",
    "    writefile.writelines('Greatest Decrease in Revenue: ' + great_dec_month + ' ($' + str(greatest_dec) + ')')\n"
   ]
  },
  {
   "cell_type": "code",
   "execution_count": null,
   "metadata": {},
   "outputs": [],
   "source": []
  }
 ],
 "metadata": {
  "kernelspec": {
   "display_name": "Python 3",
   "language": "python",
   "name": "python3"
  },
  "language_info": {
   "codemirror_mode": {
    "name": "ipython",
    "version": 3
   },
   "file_extension": ".py",
   "mimetype": "text/x-python",
   "name": "python",
   "nbconvert_exporter": "python",
   "pygments_lexer": "ipython3",
   "version": "3.7.0"
  }
 },
 "nbformat": 4,
 "nbformat_minor": 2
}
